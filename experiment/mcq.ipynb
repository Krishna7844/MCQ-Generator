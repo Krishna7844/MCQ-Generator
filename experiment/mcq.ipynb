{
 "cells": [
  {
   "cell_type": "code",
   "execution_count": 68,
   "id": "274df8ad",
   "metadata": {},
   "outputs": [],
   "source": [
    "import os\n",
    "import json\n",
    "import pandas as pd\n",
    "import traceback\n",
    "import getpass\n",
    "from langchain_google_genai import ChatGoogleGenerativeAI\n",
    "from langchain_core.callbacks import BaseCallbackHandler\n",
    "from langchain_core.prompts import ChatPromptTemplate\n",
    "from callback import TokenUsageHandler"
   ]
  },
  {
   "cell_type": "code",
   "execution_count": 245,
   "id": "159fd418",
   "metadata": {},
   "outputs": [],
   "source": [
    "my_api = \"Enter you GEMINI API-KEY\""
   ]
  },
  {
   "cell_type": "code",
   "execution_count": 113,
   "id": "9ac34b79",
   "metadata": {},
   "outputs": [],
   "source": [
    "\n",
    "if \"GOOGLE_API_KEY\" not in os.environ:\n",
    "    os.environ[\"GOOGLE_API_KEY\"] = getpass.getpass(my_api)\n",
    "    \n",
    "# os.environ[\"GOOGLE_API_KEY\"] = my_api"
   ]
  },
  {
   "cell_type": "code",
   "execution_count": 115,
   "id": "142a15da",
   "metadata": {},
   "outputs": [],
   "source": [
    "llm = ChatGoogleGenerativeAI(api_key=my_api, model=\"gemini-2.5-flash\", temperature=0.5) #temperatue means according to values wo creative behave karta hai"
   ]
  },
  {
   "cell_type": "code",
   "execution_count": 116,
   "id": "b0b2633e",
   "metadata": {},
   "outputs": [],
   "source": [
    "from langchain_google_genai import ChatGoogleGenerativeAI\n",
    "from langchain.prompts import PromptTemplate\n",
    "from langchain.chains import LLMChain, SequentialChain\n",
    "from langchain.callbacks import AimCallbackHandler\n",
    "import PyPDF2"
   ]
  },
  {
   "cell_type": "code",
   "execution_count": 216,
   "id": "6d10d640",
   "metadata": {},
   "outputs": [],
   "source": [
    "RESPONSE_JSON = {\n",
    "    \"1\": {\n",
    "        \"mcq\": \"multiple choice question\",\n",
    "        \"options\": {\n",
    "            \"a\": \"choice here\",\n",
    "            \"b\": \"choice here\",\n",
    "            \"c\": \"choice here\",\n",
    "            \"d\": \"choice here\",\n",
    "        },\n",
    "        \"correct\": \"correct answer of this question\"\n",
    "    },\n",
    "    \"2\": {\n",
    "        \"mcq\": \"multiple choice question\",\n",
    "        \"options\": {\n",
    "            \"a\": \"choice here\",\n",
    "            \"b\": \"choice here\",\n",
    "            \"c\": \"choice here\",\n",
    "            \"d\": \"choice here\",\n",
    "        },\n",
    "        \"correct\": \"correct answer of this question\"\n",
    "    },\n",
    "    \"3\": {\n",
    "        \"mcq\": \"multiple choice question\",\n",
    "        \"options\": {\n",
    "            \"a\": \"choice here\",\n",
    "            \"b\": \"choice here\",\n",
    "            \"c\": \"choice here\",\n",
    "            \"d\": \"choice here\",\n",
    "        },\n",
    "        \"correct\": \"correct answer of this question\"\n",
    "    },\n",
    "    \n",
    "}"
   ]
  },
  {
   "cell_type": "code",
   "execution_count": 217,
   "id": "e6c07cb4",
   "metadata": {},
   "outputs": [],
   "source": [
    "TEMPLATE = \"\"\"\n",
    "Text:{text}\n",
    "You are an expert MCQ maker. Given the above text, it is your job to create a quiz of {number} multiple choice questions for {subject} students in {tone} tone.\n",
    "Make sure the questions are not repeated and check all the questions to be conforming the text as well.\n",
    "Make sure to format your response like RESPONSE_JSON below and use it as a guidance.\n",
    "Ensure to make {number} MCQs.\n",
    "### RESPONSE_JSON\n",
    "{response_json}\n",
    "\"\"\""
   ]
  },
  {
   "cell_type": "code",
   "execution_count": 218,
   "id": "6d75eb86",
   "metadata": {},
   "outputs": [],
   "source": [
    "quiz_generation_prompt = PromptTemplate(\n",
    "    input_variables=['text','number','subject','tone','response_json'],\n",
    "    template=TEMPLATE)\n"
   ]
  },
  {
   "cell_type": "code",
   "execution_count": 219,
   "id": "3a439b15",
   "metadata": {},
   "outputs": [],
   "source": [
    "quiz_chain = LLMChain(llm=llm, prompt = quiz_generation_prompt, output_key=\"quiz\", verbose=True)\n",
    "\n",
    "quiz_evaluation_prompt = PromptTemplate(input_variables=(\"subject\", \"quiz\"), template=TEMPLATE)\n",
    "\n",
    "review_chain = LLMChain(llm=llm, prompt=quiz_evaluation_prompt, output_key=\"review\", verbose=True)"
   ]
  },
  {
   "cell_type": "code",
   "execution_count": 220,
   "id": "4a2ead20",
   "metadata": {},
   "outputs": [],
   "source": [
    "generate_evaluate_chain = SequentialChain(chains=[quiz_chain, review_chain], input_variables=['text','number','subject','tone','response_json'], output_variables=[\"quiz\", \"review\"], verbose=True)"
   ]
  },
  {
   "cell_type": "code",
   "execution_count": 221,
   "id": "7b8e64be",
   "metadata": {},
   "outputs": [],
   "source": [
    "file_path = \"/Users/krishna/Documents/MCQ Generator/data.txt\""
   ]
  },
  {
   "cell_type": "code",
   "execution_count": 222,
   "id": "bf20d3de",
   "metadata": {},
   "outputs": [],
   "source": [
    "with open(file_path, \"r\") as file:\n",
    "    TEXT = file.read()"
   ]
  },
  {
   "cell_type": "code",
   "execution_count": 223,
   "id": "b65f184d",
   "metadata": {},
   "outputs": [
    {
     "data": {
      "text/plain": [
       "'{\"1\": {\"mcq\": \"multiple choice question\", \"options\": {\"a\": \"choice here\", \"b\": \"choice here\", \"c\": \"choice here\", \"d\": \"choice here\"}, \"correct\": \"correct answer of this question\"}, \"2\": {\"mcq\": \"multiple choice question\", \"options\": {\"a\": \"choice here\", \"b\": \"choice here\", \"c\": \"choice here\", \"d\": \"choice here\"}, \"correct\": \"correct answer of this question\"}, \"3\": {\"mcq\": \"multiple choice question\", \"options\": {\"a\": \"choice here\", \"b\": \"choice here\", \"c\": \"choice here\", \"d\": \"choice here\"}, \"correct\": \"correct answer of this question\"}}'"
      ]
     },
     "execution_count": 223,
     "metadata": {},
     "output_type": "execute_result"
    }
   ],
   "source": [
    "json.dumps(RESPONSE_JSON)"
   ]
  },
  {
   "cell_type": "code",
   "execution_count": 234,
   "id": "106ad89e",
   "metadata": {},
   "outputs": [],
   "source": [
    "NUMBER = 10\n",
    "SUBJECT = \"machine learning\"\n",
    "TONE = \"simple\""
   ]
  },
  {
   "cell_type": "code",
   "execution_count": 235,
   "id": "dcf20585",
   "metadata": {},
   "outputs": [
    {
     "name": "stdout",
     "output_type": "stream",
     "text": [
      "\n",
      "\n",
      "\u001b[1m> Entering new SequentialChain chain...\u001b[0m\n",
      "\n",
      "\n",
      "\u001b[1m> Entering new LLMChain chain...\u001b[0m\n",
      "Prompt after formatting:\n",
      "\u001b[32;1m\u001b[1;3m\n",
      "Text:Machine learning (ML) is a field of study in artificial intelligence concerned with the development and study of statistical algorithms that can learn from data and generalise to unseen data, and thus perform tasks without explicit instructions.[1] Within a subdiscipline in machine learning, advances in the field of deep learning have allowed neural networks, a class of statistical algorithms, to surpass many previous machine learning approaches in performance.[2]\n",
      "\n",
      "ML finds application in many fields, including natural language processing, computer vision, speech recognition, email filtering, agriculture, and medicine. The application of ML to business problems is known as predictive analytics.\n",
      "\n",
      "Statistics and mathematical optimisation (mathematical programming) methods comprise the foundations of machine learning. Data mining is a related field of study, focusing on exploratory data analysis (EDA) via unsupervised learning.[4][5]\n",
      "\n",
      "From a theoretical viewpoint, probably approximately correct learning provides a framework for describing machine learning.\n",
      "You are an expert MCQ maker. Given the above text, it is your job to create a quiz of 10 multiple choice questions for machine learning students in simple tone.\n",
      "Make sure the questions are not repeated and check all the questions to be conforming the text as well.\n",
      "Make sure to format your response like RESPONSE_JSON below and use it as a guidance.\n",
      "Ensure to make 10 MCQs.\n",
      "### RESPONSE_JSON\n",
      "{\"1\": {\"mcq\": \"multiple choice question\", \"options\": {\"a\": \"choice here\", \"b\": \"choice here\", \"c\": \"choice here\", \"d\": \"choice here\"}, \"correct\": \"correct answer of this question\"}, \"2\": {\"mcq\": \"multiple choice question\", \"options\": {\"a\": \"choice here\", \"b\": \"choice here\", \"c\": \"choice here\", \"d\": \"choice here\"}, \"correct\": \"correct answer of this question\"}, \"3\": {\"mcq\": \"multiple choice question\", \"options\": {\"a\": \"choice here\", \"b\": \"choice here\", \"c\": \"choice here\", \"d\": \"choice here\"}, \"correct\": \"correct answer of this question\"}}\n",
      "\u001b[0m\n",
      "\n",
      "\u001b[1m> Finished chain.\u001b[0m\n",
      "\n",
      "\n",
      "\u001b[1m> Entering new LLMChain chain...\u001b[0m\n",
      "Prompt after formatting:\n",
      "\u001b[32;1m\u001b[1;3m\n",
      "Text:Machine learning (ML) is a field of study in artificial intelligence concerned with the development and study of statistical algorithms that can learn from data and generalise to unseen data, and thus perform tasks without explicit instructions.[1] Within a subdiscipline in machine learning, advances in the field of deep learning have allowed neural networks, a class of statistical algorithms, to surpass many previous machine learning approaches in performance.[2]\n",
      "\n",
      "ML finds application in many fields, including natural language processing, computer vision, speech recognition, email filtering, agriculture, and medicine. The application of ML to business problems is known as predictive analytics.\n",
      "\n",
      "Statistics and mathematical optimisation (mathematical programming) methods comprise the foundations of machine learning. Data mining is a related field of study, focusing on exploratory data analysis (EDA) via unsupervised learning.[4][5]\n",
      "\n",
      "From a theoretical viewpoint, probably approximately correct learning provides a framework for describing machine learning.\n",
      "You are an expert MCQ maker. Given the above text, it is your job to create a quiz of 10 multiple choice questions for machine learning students in simple tone.\n",
      "Make sure the questions are not repeated and check all the questions to be conforming the text as well.\n",
      "Make sure to format your response like RESPONSE_JSON below and use it as a guidance.\n",
      "Ensure to make 10 MCQs.\n",
      "### RESPONSE_JSON\n",
      "{\"1\": {\"mcq\": \"multiple choice question\", \"options\": {\"a\": \"choice here\", \"b\": \"choice here\", \"c\": \"choice here\", \"d\": \"choice here\"}, \"correct\": \"correct answer of this question\"}, \"2\": {\"mcq\": \"multiple choice question\", \"options\": {\"a\": \"choice here\", \"b\": \"choice here\", \"c\": \"choice here\", \"d\": \"choice here\"}, \"correct\": \"correct answer of this question\"}, \"3\": {\"mcq\": \"multiple choice question\", \"options\": {\"a\": \"choice here\", \"b\": \"choice here\", \"c\": \"choice here\", \"d\": \"choice here\"}, \"correct\": \"correct answer of this question\"}}\n",
      "\u001b[0m\n",
      "\n",
      "\u001b[1m> Finished chain.\u001b[0m\n",
      "\n",
      "\u001b[1m> Finished chain.\u001b[0m\n"
     ]
    }
   ],
   "source": [
    "from langchain_google_genai import ChatGoogleGenerativeAI\n",
    "from callback import TokenUsageHandler\n",
    "\n",
    "# Step 1: Create handler\n",
    "handler = TokenUsageHandler()\n",
    "\n",
    "# Step 2: Initialize Gemini LLM with callback\n",
    "llm = ChatGoogleGenerativeAI(\n",
    "    api_key=my_api,   \n",
    "    model=\"gemini-2.5-flash\",\n",
    "    callbacks=[handler],\n",
    ")\n",
    "\n",
    "response = generate_evaluate_chain({\n",
    "    \"text\": TEXT,\n",
    "    \"number\": NUMBER,\n",
    "    \"subject\": SUBJECT,\n",
    "    \"tone\": TONE,\n",
    "    \"response_json\": json.dumps(RESPONSE_JSON),\n",
    "})"
   ]
  },
  {
   "cell_type": "code",
   "execution_count": 141,
   "id": "f9b16772",
   "metadata": {},
   "outputs": [
    {
     "data": {
      "text/plain": [
       "langchain_core.messages.ai.AIMessage"
      ]
     },
     "execution_count": 141,
     "metadata": {},
     "output_type": "execute_result"
    }
   ],
   "source": [
    "# # Step 3: Make a request\n",
    "# response = llm.invoke(prompt_text)\n",
    "# Step 4: Print response and token usage\n",
    "\n",
    "# print(\"Response:\", response.content)\n",
    "# print(\"Total tokens:\", handler.total_tokens)\n",
    "# print(\"Prompt tokens:\", handler.prompt_tokens)\n",
    "# print(\"Completion tokens:\", handler.completion_tokens)"
   ]
  },
  {
   "cell_type": "code",
   "execution_count": 236,
   "id": "eaa3829e",
   "metadata": {},
   "outputs": [],
   "source": [
    "quiz = response.get(\"quiz\")"
   ]
  },
  {
   "cell_type": "code",
   "execution_count": 237,
   "id": "8e2d5c2a",
   "metadata": {},
   "outputs": [],
   "source": [
    "start = quiz.find(\"{\")\n",
    "end = quiz.rfind(\"}\") + 1\n",
    "quiz_json = quiz[start:end]"
   ]
  },
  {
   "cell_type": "code",
   "execution_count": 238,
   "id": "74a59fa4",
   "metadata": {},
   "outputs": [],
   "source": [
    "quiz = json.loads(quiz_json)"
   ]
  },
  {
   "cell_type": "code",
   "execution_count": 239,
   "id": "e14556c4",
   "metadata": {},
   "outputs": [
    {
     "data": {
      "text/plain": [
       "{'1': {'mcq': 'What is Machine Learning primarily concerned with, according to the text?',\n",
       "  'options': {'a': 'Developing explicit instructions for specific tasks.',\n",
       "   'b': 'Studying the history of artificial intelligence.',\n",
       "   'c': 'Developing and studying statistical algorithms that learn from data.',\n",
       "   'd': 'Creating physical robots to perform manual labor.'},\n",
       "  'correct': 'c'},\n",
       " '2': {'mcq': 'Which subdiscipline within machine learning has significantly boosted the performance of neural networks?',\n",
       "  'options': {'a': 'Predictive analytics',\n",
       "   'b': 'Data mining',\n",
       "   'c': 'Deep learning',\n",
       "   'd': 'Exploratory data analysis'},\n",
       "  'correct': 'c'},\n",
       " '3': {'mcq': 'Neural networks are identified as a class of what type of algorithms?',\n",
       "  'options': {'a': 'Explicit instructions',\n",
       "   'b': 'Statistical algorithms',\n",
       "   'c': 'Business problems',\n",
       "   'd': 'Theoretical frameworks'},\n",
       "  'correct': 'b'},\n",
       " '4': {'mcq': 'Which of the following is NOT listed as an application field for Machine Learning in the text?',\n",
       "  'options': {'a': 'Computer vision',\n",
       "   'b': 'Speech recognition',\n",
       "   'c': 'Web design',\n",
       "   'd': 'Agriculture'},\n",
       "  'correct': 'c'},\n",
       " '5': {'mcq': 'What is the application of Machine Learning to business problems specifically known as?',\n",
       "  'options': {'a': 'Data mining',\n",
       "   'b': 'Predictive analytics',\n",
       "   'c': 'Statistical modeling',\n",
       "   'd': 'Mathematical programming'},\n",
       "  'correct': 'b'},\n",
       " '6': {'mcq': 'Which two methods comprise the foundations of machine learning?',\n",
       "  'options': {'a': 'Natural language processing and computer vision',\n",
       "   'b': 'Statistics and mathematical optimization',\n",
       "   'c': 'Deep learning and neural networks',\n",
       "   'd': 'Exploratory data analysis and unsupervised learning'},\n",
       "  'correct': 'b'},\n",
       " '7': {'mcq': 'Data mining is a related field focusing on exploratory data analysis (EDA) through what type of learning?',\n",
       "  'options': {'a': 'Supervised learning',\n",
       "   'b': 'Reinforcement learning',\n",
       "   'c': 'Unsupervised learning',\n",
       "   'd': 'Transfer learning'},\n",
       "  'correct': 'c'},\n",
       " '8': {'mcq': 'What ability do machine learning algorithms possess regarding tasks, according to the text?',\n",
       "  'options': {'a': 'They require explicit instructions for every task.',\n",
       "   'b': 'They can only perform tasks in a controlled environment.',\n",
       "   'c': 'They can perform tasks without explicit instructions.',\n",
       "   'd': 'They are limited to simple arithmetic tasks.'},\n",
       "  'correct': 'c'},\n",
       " '9': {'mcq': 'From a theoretical viewpoint, what framework helps describe machine learning?',\n",
       "  'options': {'a': 'Mathematical programming',\n",
       "   'b': 'Probably approximately correct learning',\n",
       "   'c': 'Deep learning architecture',\n",
       "   'd': 'Artificial general intelligence'},\n",
       "  'correct': 'b'},\n",
       " '10': {'mcq': 'Machine learning is defined as a field of study within which broader area?',\n",
       "  'options': {'a': 'Statistics',\n",
       "   'b': 'Data mining',\n",
       "   'c': 'Artificial intelligence',\n",
       "   'd': 'Mathematical optimization'},\n",
       "  'correct': 'c'}}"
      ]
     },
     "execution_count": 239,
     "metadata": {},
     "output_type": "execute_result"
    }
   ],
   "source": [
    "quiz"
   ]
  },
  {
   "cell_type": "code",
   "execution_count": 240,
   "id": "6eaf2ab6",
   "metadata": {},
   "outputs": [],
   "source": [
    "quiz_table_data = []\n",
    "for key, value in quiz.items():\n",
    "    mcq = value[\"mcq\"]\n",
    "    options = \" | \".join(\n",
    "        [\n",
    "            f\"{option}: {option_value}\"\n",
    "            for option, option_value in value[\"options\"].items()\n",
    "            ]\n",
    "    )\n",
    "    correct = value[\"correct\"]\n",
    "    quiz_table_data.append({\"MCQ\": mcq, \"Choices\": options, \"Correct\":correct})"
   ]
  },
  {
   "cell_type": "code",
   "execution_count": 241,
   "id": "fd3981b6",
   "metadata": {},
   "outputs": [
    {
     "data": {
      "text/plain": [
       "[{'MCQ': 'What is Machine Learning primarily concerned with, according to the text?',\n",
       "  'Choices': 'a: Developing explicit instructions for specific tasks. | b: Studying the history of artificial intelligence. | c: Developing and studying statistical algorithms that learn from data. | d: Creating physical robots to perform manual labor.',\n",
       "  'Correct': 'c'},\n",
       " {'MCQ': 'Which subdiscipline within machine learning has significantly boosted the performance of neural networks?',\n",
       "  'Choices': 'a: Predictive analytics | b: Data mining | c: Deep learning | d: Exploratory data analysis',\n",
       "  'Correct': 'c'},\n",
       " {'MCQ': 'Neural networks are identified as a class of what type of algorithms?',\n",
       "  'Choices': 'a: Explicit instructions | b: Statistical algorithms | c: Business problems | d: Theoretical frameworks',\n",
       "  'Correct': 'b'},\n",
       " {'MCQ': 'Which of the following is NOT listed as an application field for Machine Learning in the text?',\n",
       "  'Choices': 'a: Computer vision | b: Speech recognition | c: Web design | d: Agriculture',\n",
       "  'Correct': 'c'},\n",
       " {'MCQ': 'What is the application of Machine Learning to business problems specifically known as?',\n",
       "  'Choices': 'a: Data mining | b: Predictive analytics | c: Statistical modeling | d: Mathematical programming',\n",
       "  'Correct': 'b'},\n",
       " {'MCQ': 'Which two methods comprise the foundations of machine learning?',\n",
       "  'Choices': 'a: Natural language processing and computer vision | b: Statistics and mathematical optimization | c: Deep learning and neural networks | d: Exploratory data analysis and unsupervised learning',\n",
       "  'Correct': 'b'},\n",
       " {'MCQ': 'Data mining is a related field focusing on exploratory data analysis (EDA) through what type of learning?',\n",
       "  'Choices': 'a: Supervised learning | b: Reinforcement learning | c: Unsupervised learning | d: Transfer learning',\n",
       "  'Correct': 'c'},\n",
       " {'MCQ': 'What ability do machine learning algorithms possess regarding tasks, according to the text?',\n",
       "  'Choices': 'a: They require explicit instructions for every task. | b: They can only perform tasks in a controlled environment. | c: They can perform tasks without explicit instructions. | d: They are limited to simple arithmetic tasks.',\n",
       "  'Correct': 'c'},\n",
       " {'MCQ': 'From a theoretical viewpoint, what framework helps describe machine learning?',\n",
       "  'Choices': 'a: Mathematical programming | b: Probably approximately correct learning | c: Deep learning architecture | d: Artificial general intelligence',\n",
       "  'Correct': 'b'},\n",
       " {'MCQ': 'Machine learning is defined as a field of study within which broader area?',\n",
       "  'Choices': 'a: Statistics | b: Data mining | c: Artificial intelligence | d: Mathematical optimization',\n",
       "  'Correct': 'c'}]"
      ]
     },
     "execution_count": 241,
     "metadata": {},
     "output_type": "execute_result"
    }
   ],
   "source": [
    "quiz_table_data"
   ]
  },
  {
   "cell_type": "code",
   "execution_count": 242,
   "id": "313301a5",
   "metadata": {},
   "outputs": [],
   "source": [
    "quiz = pd.DataFrame(quiz_table_data)"
   ]
  },
  {
   "cell_type": "code",
   "execution_count": 244,
   "id": "d6e08e4e",
   "metadata": {},
   "outputs": [],
   "source": [
    "quiz.to_csv(\"machine_learning.csv\", index=False)"
   ]
  }
 ],
 "metadata": {
  "kernelspec": {
   "display_name": "env",
   "language": "python",
   "name": "python3"
  },
  "language_info": {
   "codemirror_mode": {
    "name": "ipython",
    "version": 3
   },
   "file_extension": ".py",
   "mimetype": "text/x-python",
   "name": "python",
   "nbconvert_exporter": "python",
   "pygments_lexer": "ipython3",
   "version": "3.11.8"
  }
 },
 "nbformat": 4,
 "nbformat_minor": 5
}
